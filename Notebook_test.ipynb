{
 "cells": [
  {
   "cell_type": "code",
   "execution_count": 36,
   "id": "8672f3ae-65cd-4bb1-8308-a1b5df3aa922",
   "metadata": {},
   "outputs": [
    {
     "name": "stdout",
     "output_type": "stream",
     "text": [
      "Hello, worldy!\n"
     ]
    }
   ],
   "source": [
    "#Test\n",
    "print(\"Hello, worldy!\")"
   ]
  },
  {
   "cell_type": "markdown",
   "id": "213b93a9-b351-47c4-aaf6-42ef0daad9cd",
   "metadata": {},
   "source": [
    "## This is the result of the print statement!"
   ]
  },
  {
   "cell_type": "code",
   "execution_count": 37,
   "id": "949cee9f-e590-44ca-921e-9b2eba35b1e3",
   "metadata": {},
   "outputs": [
    {
     "data": {
      "text/plain": [
       "[2, 3]"
      ]
     },
     "execution_count": 37,
     "metadata": {},
     "output_type": "execute_result"
    }
   ],
   "source": [
    "list1 = [2,3]\n",
    "list1"
   ]
  },
  {
   "cell_type": "code",
   "execution_count": 38,
   "id": "dda75b8e-5b78-4ae0-b818-1ae26dc1fd32",
   "metadata": {},
   "outputs": [
    {
     "data": {
      "text/plain": [
       "[2, 3, 2, 3]"
      ]
     },
     "execution_count": 38,
     "metadata": {},
     "output_type": "execute_result"
    }
   ],
   "source": [
    "list1 * 2"
   ]
  },
  {
   "cell_type": "code",
   "execution_count": 39,
   "id": "7d6feb9b-1d9f-48da-9a58-abbe2e06ec75",
   "metadata": {},
   "outputs": [
    {
     "name": "stdout",
     "output_type": "stream",
     "text": [
      "[2 3]\n"
     ]
    }
   ],
   "source": [
    "import numpy as np\n",
    "import pandas as pd\n",
    "\n",
    "test_array = np.array(list1)\n",
    "print(test_array)"
   ]
  },
  {
   "cell_type": "code",
   "execution_count": 40,
   "id": "01eb142d-0cfb-4bd0-8718-3b3e0ee4148c",
   "metadata": {},
   "outputs": [
    {
     "data": {
      "text/plain": [
       "array([ 8, 12])"
      ]
     },
     "execution_count": 40,
     "metadata": {},
     "output_type": "execute_result"
    }
   ],
   "source": [
    "test_array * 4"
   ]
  },
  {
   "cell_type": "code",
   "execution_count": 41,
   "id": "19711b37-2371-4943-90dd-dbb81cb3fefd",
   "metadata": {},
   "outputs": [
    {
     "data": {
      "text/plain": [
       "array([[[1, 2, 3],\n",
       "        [3, 4, 5]],\n",
       "\n",
       "       [[5, 6, 7],\n",
       "        [7, 8, 9]]])"
      ]
     },
     "execution_count": 41,
     "metadata": {},
     "output_type": "execute_result"
    }
   ],
   "source": [
    "arr3 = np.array([[[1,2,3],[3,4,5]],[[5,6,7],[7,8,9]]])\n",
    "arr3\n"
   ]
  },
  {
   "cell_type": "code",
   "execution_count": 42,
   "id": "f8d1ef03-2a52-4917-83c0-374fa65f6cfe",
   "metadata": {},
   "outputs": [
    {
     "data": {
      "text/plain": [
       "(2, 2, 3)"
      ]
     },
     "execution_count": 42,
     "metadata": {},
     "output_type": "execute_result"
    }
   ],
   "source": [
    "arr3.shape"
   ]
  },
  {
   "cell_type": "markdown",
   "id": "e4f76d0a-6398-4780-9481-a2620603c692",
   "metadata": {},
   "source": [
    "### arr3 here is what we refer to as a \"3D array\", it has 3 rows, 2 columns and then 2 \"sets\" (explaining arr3.shape's output from right to left)."
   ]
  },
  {
   "cell_type": "code",
   "execution_count": 44,
   "id": "fa67cf87-2bdb-45df-a541-89ed42c32c92",
   "metadata": {},
   "outputs": [
    {
     "data": {
      "text/plain": [
       "array([ 1,  2,  3,  4,  5,  6,  7,  8,  9, 10, 11, 12, 13, 14, 15, 16, 17,\n",
       "       18, 19, 20, 21, 22, 23, 24, 25, 26, 27, 28, 29, 30, 31, 32, 33, 34,\n",
       "       35, 36, 37, 38, 39, 40, 41, 42, 43, 44, 45, 46, 47, 48, 49, 50, 51,\n",
       "       52, 53, 54, 55, 56, 57, 58, 59, 60, 61, 62, 63, 64, 65, 66, 67, 68,\n",
       "       69, 70, 71, 72, 73, 74, 75, 76, 77, 78, 79, 80, 81, 82, 83, 84, 85,\n",
       "       86, 87, 88, 89, 90, 91, 92, 93, 94, 95, 96, 97, 98])"
      ]
     },
     "execution_count": 44,
     "metadata": {},
     "output_type": "execute_result"
    }
   ],
   "source": [
    "np.arange(1, 99)"
   ]
  },
  {
   "cell_type": "code",
   "execution_count": 46,
   "id": "9c8a1887-62bf-41f5-8da8-1332fc3e5b7f",
   "metadata": {},
   "outputs": [
    {
     "data": {
      "text/plain": [
       "60"
      ]
     },
     "execution_count": 46,
     "metadata": {},
     "output_type": "execute_result"
    }
   ],
   "source": [
    "np.sum(arr3)"
   ]
  },
  {
   "cell_type": "code",
   "execution_count": 49,
   "id": "e10d1ee5-d2ac-454e-a692-d0dc359928fb",
   "metadata": {},
   "outputs": [
    {
     "name": "stdout",
     "output_type": "stream",
     "text": [
      "45\n"
     ]
    }
   ],
   "source": [
    "print(1 + 2 + 3 + 4 + 5 + 6 + 7 + 8 + 9)"
   ]
  },
  {
   "cell_type": "code",
   "execution_count": 53,
   "id": "e7e840c7-71c9-479b-8778-5a4b57d8608d",
   "metadata": {},
   "outputs": [
    {
     "data": {
      "text/plain": [
       "a    10\n",
       "b    20\n",
       "c    30\n",
       "dtype: int64"
      ]
     },
     "execution_count": 53,
     "metadata": {},
     "output_type": "execute_result"
    }
   ],
   "source": [
    "x = pd.Series([10,20,30], index=['a','b','c'])\n",
    "x"
   ]
  },
  {
   "cell_type": "code",
   "execution_count": 57,
   "id": "f441f877-2dec-4e8d-8ec9-5196f8c7af2b",
   "metadata": {},
   "outputs": [
    {
     "data": {
      "text/plain": [
       "Index(['a', 'b', 'c'], dtype='object')"
      ]
     },
     "execution_count": 57,
     "metadata": {},
     "output_type": "execute_result"
    }
   ],
   "source": [
    "x.index"
   ]
  },
  {
   "cell_type": "code",
   "execution_count": 59,
   "id": "135e948c-d9dc-455f-a751-06a2d6e6b451",
   "metadata": {},
   "outputs": [
    {
     "data": {
      "text/plain": [
       "10"
      ]
     },
     "execution_count": 59,
     "metadata": {},
     "output_type": "execute_result"
    }
   ],
   "source": [
    "x['a']"
   ]
  },
  {
   "cell_type": "code",
   "execution_count": 62,
   "id": "3e02e03d-67ac-4603-89b5-3bee5ade2d6c",
   "metadata": {},
   "outputs": [
    {
     "name": "stderr",
     "output_type": "stream",
     "text": [
      "/tmp/ipykernel_12407/3629782281.py:1: FutureWarning: Series.__getitem__ treating keys as positions is deprecated. In a future version, integer keys will always be treated as labels (consistent with DataFrame behavior). To access a value by position, use `ser.iloc[pos]`\n",
      "  x[0]\n"
     ]
    },
    {
     "data": {
      "text/plain": [
       "10"
      ]
     },
     "execution_count": 62,
     "metadata": {},
     "output_type": "execute_result"
    }
   ],
   "source": [
    "x[0]"
   ]
  },
  {
   "cell_type": "code",
   "execution_count": 67,
   "id": "8fe07041-f194-4b3d-8ec5-872dabafb0a6",
   "metadata": {},
   "outputs": [
    {
     "name": "stdout",
     "output_type": "stream",
     "text": [
      "a    10.0\n",
      "b    20.0\n",
      "c    30.0\n",
      "d     NaN\n",
      "e     NaN\n",
      "dtype: float64\n"
     ]
    },
    {
     "data": {
      "text/plain": [
       "a    10.0\n",
       "b    20.0\n",
       "c    30.0\n",
       "d     NaN\n",
       "e     NaN\n",
       "dtype: float64"
      ]
     },
     "execution_count": 67,
     "metadata": {},
     "output_type": "execute_result"
    }
   ],
   "source": [
    "new_x = pd.Series(x, index=['a','b','c', 'd','e'])\n",
    "print(new_x)\n",
    "new_x"
   ]
  },
  {
   "cell_type": "code",
   "execution_count": 69,
   "id": "90bae33e-af7b-452a-a295-6e51724eb78c",
   "metadata": {},
   "outputs": [
    {
     "data": {
      "text/plain": [
       "a    False\n",
       "b    False\n",
       "c    False\n",
       "d     True\n",
       "e     True\n",
       "dtype: bool"
      ]
     },
     "execution_count": 69,
     "metadata": {},
     "output_type": "execute_result"
    }
   ],
   "source": [
    "np.isnan(new_x)"
   ]
  },
  {
   "cell_type": "code",
   "execution_count": 71,
   "id": "97ae69be-e556-41af-bd55-850441db8699",
   "metadata": {},
   "outputs": [
    {
     "data": {
      "text/plain": [
       "a    False\n",
       "b    False\n",
       "c    False\n",
       "d     True\n",
       "e     True\n",
       "dtype: bool"
      ]
     },
     "execution_count": 71,
     "metadata": {},
     "output_type": "execute_result"
    }
   ],
   "source": [
    "pd.isnull(new_x)"
   ]
  },
  {
   "cell_type": "code",
   "execution_count": 73,
   "id": "893a6fd9-0d33-4246-b439-3923da162a18",
   "metadata": {},
   "outputs": [
    {
     "data": {
      "text/plain": [
       "[['a', 10], ['b', 20], ['c', 30]]"
      ]
     },
     "execution_count": 73,
     "metadata": {},
     "output_type": "execute_result"
    }
   ],
   "source": [
    "data = [['a', 10], ['b', 20], ['c', 30]]\n",
    "data"
   ]
  },
  {
   "cell_type": "code",
   "execution_count": 77,
   "id": "009cc7a9-3b31-4978-b061-662cac8884a1",
   "metadata": {},
   "outputs": [
    {
     "data": {
      "text/html": [
       "<div>\n",
       "<style scoped>\n",
       "    .dataframe tbody tr th:only-of-type {\n",
       "        vertical-align: middle;\n",
       "    }\n",
       "\n",
       "    .dataframe tbody tr th {\n",
       "        vertical-align: top;\n",
       "    }\n",
       "\n",
       "    .dataframe thead th {\n",
       "        text-align: right;\n",
       "    }\n",
       "</style>\n",
       "<table border=\"1\" class=\"dataframe\">\n",
       "  <thead>\n",
       "    <tr style=\"text-align: right;\">\n",
       "      <th></th>\n",
       "      <th>Name</th>\n",
       "      <th>Score</th>\n",
       "    </tr>\n",
       "  </thead>\n",
       "  <tbody>\n",
       "    <tr>\n",
       "      <th>0</th>\n",
       "      <td>a</td>\n",
       "      <td>10</td>\n",
       "    </tr>\n",
       "    <tr>\n",
       "      <th>1</th>\n",
       "      <td>b</td>\n",
       "      <td>20</td>\n",
       "    </tr>\n",
       "    <tr>\n",
       "      <th>2</th>\n",
       "      <td>c</td>\n",
       "      <td>30</td>\n",
       "    </tr>\n",
       "  </tbody>\n",
       "</table>\n",
       "</div>"
      ],
      "text/plain": [
       "  Name  Score\n",
       "0    a     10\n",
       "1    b     20\n",
       "2    c     30"
      ]
     },
     "execution_count": 77,
     "metadata": {},
     "output_type": "execute_result"
    }
   ],
   "source": [
    "df = pd.DataFrame(data, columns=['Name', 'Score'])\n",
    "df"
   ]
  },
  {
   "cell_type": "code",
   "execution_count": 79,
   "id": "359bc82e-1cc6-4e7f-8b42-dca7f0797883",
   "metadata": {},
   "outputs": [
    {
     "data": {
      "text/html": [
       "<div>\n",
       "<style scoped>\n",
       "    .dataframe tbody tr th:only-of-type {\n",
       "        vertical-align: middle;\n",
       "    }\n",
       "\n",
       "    .dataframe tbody tr th {\n",
       "        vertical-align: top;\n",
       "    }\n",
       "\n",
       "    .dataframe thead th {\n",
       "        text-align: right;\n",
       "    }\n",
       "</style>\n",
       "<table border=\"1\" class=\"dataframe\">\n",
       "  <thead>\n",
       "    <tr style=\"text-align: right;\">\n",
       "      <th></th>\n",
       "      <th>Title</th>\n",
       "      <th>firstName</th>\n",
       "      <th>lastName</th>\n",
       "      <th>gender</th>\n",
       "      <th>email</th>\n",
       "    </tr>\n",
       "  </thead>\n",
       "  <tbody>\n",
       "    <tr>\n",
       "      <th>0</th>\n",
       "      <td>Honorable</td>\n",
       "      <td>Alasdair</td>\n",
       "      <td>Beeckx</td>\n",
       "      <td>Male</td>\n",
       "      <td>abeeckx0@un.org</td>\n",
       "    </tr>\n",
       "    <tr>\n",
       "      <th>1</th>\n",
       "      <td>Dr</td>\n",
       "      <td>Saunder</td>\n",
       "      <td>Murname</td>\n",
       "      <td>Male</td>\n",
       "      <td>smurname1@ftc.gov</td>\n",
       "    </tr>\n",
       "    <tr>\n",
       "      <th>2</th>\n",
       "      <td>Honorable</td>\n",
       "      <td>Julissa</td>\n",
       "      <td>Spriddle</td>\n",
       "      <td>Female</td>\n",
       "      <td>jspriddle2@chicagotribune.com</td>\n",
       "    </tr>\n",
       "    <tr>\n",
       "      <th>3</th>\n",
       "      <td>Rev</td>\n",
       "      <td>Bernadene</td>\n",
       "      <td>Peak</td>\n",
       "      <td>Female</td>\n",
       "      <td>bpeak3@fc2.com</td>\n",
       "    </tr>\n",
       "    <tr>\n",
       "      <th>4</th>\n",
       "      <td>Mrs</td>\n",
       "      <td>Cass</td>\n",
       "      <td>Bernardeschi</td>\n",
       "      <td>Male</td>\n",
       "      <td>cbernardeschi4@technorati.com</td>\n",
       "    </tr>\n",
       "    <tr>\n",
       "      <th>5</th>\n",
       "      <td>Honorable</td>\n",
       "      <td>Aggi</td>\n",
       "      <td>Lipson</td>\n",
       "      <td>Female</td>\n",
       "      <td>alipson5@ucoz.ru</td>\n",
       "    </tr>\n",
       "    <tr>\n",
       "      <th>6</th>\n",
       "      <td>Ms</td>\n",
       "      <td>Trescha</td>\n",
       "      <td>Damato</td>\n",
       "      <td>Female</td>\n",
       "      <td>tdamato6@skyrock.com</td>\n",
       "    </tr>\n",
       "    <tr>\n",
       "      <th>7</th>\n",
       "      <td>Dr</td>\n",
       "      <td>Dav</td>\n",
       "      <td>Headon</td>\n",
       "      <td>Male</td>\n",
       "      <td>dheadon7@ted.com</td>\n",
       "    </tr>\n",
       "    <tr>\n",
       "      <th>8</th>\n",
       "      <td>Honorable</td>\n",
       "      <td>Nealson</td>\n",
       "      <td>Janeway</td>\n",
       "      <td>Male</td>\n",
       "      <td>njaneway8@360.cn</td>\n",
       "    </tr>\n",
       "    <tr>\n",
       "      <th>9</th>\n",
       "      <td>Mrs</td>\n",
       "      <td>Laney</td>\n",
       "      <td>Trobey</td>\n",
       "      <td>Female</td>\n",
       "      <td>ltrobey9@eventbrite.com</td>\n",
       "    </tr>\n",
       "  </tbody>\n",
       "</table>\n",
       "</div>"
      ],
      "text/plain": [
       "       Title  firstName      lastName  gender                          email\n",
       "0  Honorable   Alasdair        Beeckx    Male                abeeckx0@un.org\n",
       "1         Dr    Saunder       Murname    Male              smurname1@ftc.gov\n",
       "2  Honorable    Julissa      Spriddle  Female  jspriddle2@chicagotribune.com\n",
       "3        Rev  Bernadene          Peak  Female                 bpeak3@fc2.com\n",
       "4        Mrs       Cass  Bernardeschi    Male  cbernardeschi4@technorati.com\n",
       "5  Honorable       Aggi        Lipson  Female               alipson5@ucoz.ru\n",
       "6         Ms    Trescha        Damato  Female           tdamato6@skyrock.com\n",
       "7         Dr        Dav        Headon    Male               dheadon7@ted.com\n",
       "8  Honorable    Nealson       Janeway    Male               njaneway8@360.cn\n",
       "9        Mrs      Laney        Trobey  Female        ltrobey9@eventbrite.com"
      ]
     },
     "execution_count": 79,
     "metadata": {},
     "output_type": "execute_result"
    }
   ],
   "source": [
    "user_details = pd.read_csv('user_details.csv')\n",
    "user_details"
   ]
  },
  {
   "cell_type": "code",
   "execution_count": 83,
   "id": "a0dfe1ce-3c14-43e0-9110-19d6a9afc199",
   "metadata": {},
   "outputs": [
    {
     "data": {
      "text/plain": [
       "0    Honorable\n",
       "1           Dr\n",
       "2    Honorable\n",
       "3          Rev\n",
       "4          Mrs\n",
       "5    Honorable\n",
       "6           Ms\n",
       "7           Dr\n",
       "8    Honorable\n",
       "9          Mrs\n",
       "Name: Title, dtype: object"
      ]
     },
     "execution_count": 83,
     "metadata": {},
     "output_type": "execute_result"
    }
   ],
   "source": [
    "user_details['Title']"
   ]
  },
  {
   "cell_type": "code",
   "execution_count": 85,
   "id": "7c6ddee8-79b2-48b0-97fc-b0ad1431672a",
   "metadata": {},
   "outputs": [
    {
     "data": {
      "text/plain": [
       "0    False\n",
       "1    False\n",
       "2    False\n",
       "3    False\n",
       "4    False\n",
       "5    False\n",
       "6    False\n",
       "7    False\n",
       "8    False\n",
       "9    False\n",
       "dtype: bool"
      ]
     },
     "execution_count": 85,
     "metadata": {},
     "output_type": "execute_result"
    }
   ],
   "source": [
    "user_details.duplicated()"
   ]
  },
  {
   "cell_type": "code",
   "execution_count": 94,
   "id": "84893d53-a22f-4ce6-b7ab-2e5ef979a2e7",
   "metadata": {},
   "outputs": [
    {
     "data": {
      "text/plain": [
       "'smurname1@ftc.gov'"
      ]
     },
     "execution_count": 94,
     "metadata": {},
     "output_type": "execute_result"
    }
   ],
   "source": [
    "user_details.iloc[1,4]"
   ]
  },
  {
   "cell_type": "code",
   "execution_count": null,
   "id": "71ea5290-ccb3-452e-80d3-fc3a7812454a",
   "metadata": {},
   "outputs": [],
   "source": [
    "sn"
   ]
  }
 ],
 "metadata": {
  "kernelspec": {
   "display_name": "Python 3 (ipykernel)",
   "language": "python",
   "name": "python3"
  },
  "language_info": {
   "codemirror_mode": {
    "name": "ipython",
    "version": 3
   },
   "file_extension": ".py",
   "mimetype": "text/x-python",
   "name": "python",
   "nbconvert_exporter": "python",
   "pygments_lexer": "ipython3",
   "version": "3.12.2"
  }
 },
 "nbformat": 4,
 "nbformat_minor": 5
}
